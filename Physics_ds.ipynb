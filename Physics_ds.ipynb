{
 "cells": [
  {
   "cell_type": "code",
   "execution_count": 9,
   "id": "07a21637",
   "metadata": {},
   "outputs": [],
   "source": [
    "import numpy as np\n",
    "import pandas as pd\n",
    "import scipy.stats as sps\n",
    "\n",
    "from sklearn.linear_model import LinearRegression\n",
    "from sklearn.model_selection import train_test_split\n",
    "import sklearn.metrics as metrics\n",
    "\n",
    "import matplotlib.pyplot as plt\n",
    "import seaborn as sns\n",
    "\n",
    "red = '#FF3300'\n",
    "blue = '#0099CC'\n",
    "green = '#00CC66'\n",
    "\n",
    "from statsmodels.sandbox.stats.multicomp import multipletests\n",
    "import tqdm\n",
    "from collections import Counter\n",
    "from statsmodels.stats.diagnostic import lilliefors\n",
    "\n",
    "%matplotlib inline\n",
    "\n"
   ]
  },
  {
   "cell_type": "markdown",
   "id": "fdd21649",
   "metadata": {},
   "source": [
    "# Задача  Оптимизационная\n",
    "Физики из города Долгопрудный купили сверхточный термометр и датчик давления для исследования разреженных газов. В сосуд с изменяемым объемом они закачали некоторое количество одноатомного газа, причем он оказался достаточно разреженным. Затем они изменяли температуру данного сосуда и измеряли давление, причём теплоемкость газа в данном процессе можно считать постоянной. Значения, полученные в ходе эксперимента, они записывали в этот [файл](https://drive.google.com/file/d/1vg3fFktL01uqXNjUFRxlDdYWOyHOjDJL/view?usp=sharing). Постройте оценку теплоёмкости данного газа с наименьшей возможной дисперсией/погрешностью. \n",
    "\n",
    "\n",
    "*Указание 1: для процессов с постоянной теплоёмкостью зависимость давления от температуры имеет вид $P \\propto T^{\\alpha}$, где $\\alpha$ &mdash; любое число.*\n",
    "\n",
    "*Указание 2: Может быть полезным для уменьшения погрешности усреднять давление в некотором диапазоне температур.*\n",
    "\n"
   ]
  },
  {
   "cell_type": "markdown",
   "id": "cd26a7e0",
   "metadata": {},
   "source": [
    "**Идея задачи:**\n",
    "найдем коэффициент $\\alpha$ из зависимости $P \\propto T^{\\alpha}$, ведь через него выражается теплоемкостью"
   ]
  },
  {
   "cell_type": "markdown",
   "id": "0f75a45c",
   "metadata": {},
   "source": [
    "Предварительную обработку данных делать не будем. После подсчетов посмотрим на погрешности и поймём, можно ли было так делать. Воспользуемся моделью линейной регрессии для анализа этой задачи."
   ]
  },
  {
   "cell_type": "markdown",
   "id": "cb72e1a5",
   "metadata": {},
   "source": [
    "В файле уберем пробел между названием величины  и ее единицами измерения, чтобы можно было сделать так:"
   ]
  },
  {
   "cell_type": "code",
   "execution_count": 12,
   "id": "ea093ea3",
   "metadata": {},
   "outputs": [
    {
     "data": {
      "text/html": [
       "<div>\n",
       "<style scoped>\n",
       "    .dataframe tbody tr th:only-of-type {\n",
       "        vertical-align: middle;\n",
       "    }\n",
       "\n",
       "    .dataframe tbody tr th {\n",
       "        vertical-align: top;\n",
       "    }\n",
       "\n",
       "    .dataframe thead th {\n",
       "        text-align: right;\n",
       "    }\n",
       "</style>\n",
       "<table border=\"1\" class=\"dataframe\">\n",
       "  <thead>\n",
       "    <tr style=\"text-align: right;\">\n",
       "      <th></th>\n",
       "      <th>T,a.u</th>\n",
       "      <th>P,a.u.</th>\n",
       "    </tr>\n",
       "  </thead>\n",
       "  <tbody>\n",
       "    <tr>\n",
       "      <th>0</th>\n",
       "      <td>200.05</td>\n",
       "      <td>100</td>\n",
       "    </tr>\n",
       "    <tr>\n",
       "      <th>1</th>\n",
       "      <td>200.10</td>\n",
       "      <td>112</td>\n",
       "    </tr>\n",
       "    <tr>\n",
       "      <th>2</th>\n",
       "      <td>200.15</td>\n",
       "      <td>98</td>\n",
       "    </tr>\n",
       "    <tr>\n",
       "      <th>3</th>\n",
       "      <td>200.20</td>\n",
       "      <td>90</td>\n",
       "    </tr>\n",
       "    <tr>\n",
       "      <th>4</th>\n",
       "      <td>200.25</td>\n",
       "      <td>108</td>\n",
       "    </tr>\n",
       "  </tbody>\n",
       "</table>\n",
       "</div>"
      ],
      "text/plain": [
       "    T,a.u  P,a.u.\n",
       "0  200.05     100\n",
       "1  200.10     112\n",
       "2  200.15      98\n",
       "3  200.20      90\n",
       "4  200.25     108"
      ]
     },
     "execution_count": 12,
     "metadata": {},
     "output_type": "execute_result"
    }
   ],
   "source": [
    "data_1 = pd.read_csv(\"task1.txt\", sep=\" \") \n",
    "data_1.head()"
   ]
  },
  {
   "cell_type": "code",
   "execution_count": 13,
   "id": "d51558f2",
   "metadata": {},
   "outputs": [
    {
     "data": {
      "text/plain": [
       "Index(['T,a.u', 'P,a.u.'], dtype='object')"
      ]
     },
     "execution_count": 13,
     "metadata": {},
     "output_type": "execute_result"
    }
   ],
   "source": [
    "data_1.columns"
   ]
  },
  {
   "cell_type": "markdown",
   "id": "33d2f165",
   "metadata": {},
   "source": [
    "Произведем усреднение по температуре в пределах 10 градусов."
   ]
  },
  {
   "cell_type": "code",
   "execution_count": 14,
   "id": "f99e8f54",
   "metadata": {},
   "outputs": [],
   "source": [
    "data_sorted = data_1.sort_values(by='T,a.u').to_numpy()\n"
   ]
  },
  {
   "cell_type": "code",
   "execution_count": 15,
   "id": "d255ffce",
   "metadata": {},
   "outputs": [
    {
     "data": {
      "text/html": [
       "<div>\n",
       "<style scoped>\n",
       "    .dataframe tbody tr th:only-of-type {\n",
       "        vertical-align: middle;\n",
       "    }\n",
       "\n",
       "    .dataframe tbody tr th {\n",
       "        vertical-align: top;\n",
       "    }\n",
       "\n",
       "    .dataframe thead th {\n",
       "        text-align: right;\n",
       "    }\n",
       "</style>\n",
       "<table border=\"1\" class=\"dataframe\">\n",
       "  <thead>\n",
       "    <tr style=\"text-align: right;\">\n",
       "      <th></th>\n",
       "      <th>P,a.u.</th>\n",
       "      <th>T,a.u</th>\n",
       "    </tr>\n",
       "  </thead>\n",
       "  <tbody>\n",
       "    <tr>\n",
       "      <th>0</th>\n",
       "      <td>105.07</td>\n",
       "      <td>200.05</td>\n",
       "    </tr>\n",
       "    <tr>\n",
       "      <th>1</th>\n",
       "      <td>105.07</td>\n",
       "      <td>200.10</td>\n",
       "    </tr>\n",
       "    <tr>\n",
       "      <th>2</th>\n",
       "      <td>105.07</td>\n",
       "      <td>200.15</td>\n",
       "    </tr>\n",
       "    <tr>\n",
       "      <th>3</th>\n",
       "      <td>105.07</td>\n",
       "      <td>200.20</td>\n",
       "    </tr>\n",
       "    <tr>\n",
       "      <th>4</th>\n",
       "      <td>105.07</td>\n",
       "      <td>200.25</td>\n",
       "    </tr>\n",
       "  </tbody>\n",
       "</table>\n",
       "</div>"
      ],
      "text/plain": [
       "   P,a.u.   T,a.u\n",
       "0  105.07  200.05\n",
       "1  105.07  200.10\n",
       "2  105.07  200.15\n",
       "3  105.07  200.20\n",
       "4  105.07  200.25"
      ]
     },
     "execution_count": 15,
     "metadata": {},
     "output_type": "execute_result"
    }
   ],
   "source": [
    "data_sorted = data_1.sort_values(by='T,a.u').to_numpy()\n",
    "i=0\n",
    "j=0\n",
    "while i != len(data_sorted)-1:\n",
    "    mean = []\n",
    "    while data_sorted[: , 0][j] - data_sorted[: , 0][i] <5:\n",
    "        mean.append( data_sorted[: , 1][j])\n",
    "        j += 1\n",
    "        if j >= len(data_sorted):\n",
    "            break\n",
    "    mean = np.mean(mean)\n",
    "    data_sorted[:, 1][i:j] = mean\n",
    "    i = j\n",
    "    if j >= len(data_sorted):\n",
    "            break\n",
    "            \n",
    "mean_data = pd.DataFrame()\n",
    "mean_data['P,a.u.'] = data_sorted[:, 1][:]\n",
    "\n",
    "mean_data['T,a.u'] = data_sorted[:, 0][:]\n",
    "mean_data.head()"
   ]
  },
  {
   "cell_type": "markdown",
   "id": "56c6b15d",
   "metadata": {},
   "source": [
    "Посмотрим, сколько у нас уникальных давлений."
   ]
  },
  {
   "cell_type": "code",
   "execution_count": 16,
   "id": "2095cd82",
   "metadata": {},
   "outputs": [
    {
     "data": {
      "text/plain": [
       "(100,)"
      ]
     },
     "execution_count": 16,
     "metadata": {},
     "output_type": "execute_result"
    }
   ],
   "source": [
    "mean_data['P,a.u.'].unique().shape"
   ]
  },
  {
   "cell_type": "markdown",
   "id": "0404331e",
   "metadata": {},
   "source": [
    "Так как погрешности распределены нормально(факт из общей физики), заменим все значения, соответствующие одинаковым давлениям, на средние:"
   ]
  },
  {
   "cell_type": "code",
   "execution_count": 17,
   "id": "03b10dec",
   "metadata": {},
   "outputs": [],
   "source": [
    "upd_data = pd.DataFrame()\n",
    "t =[]\n",
    "for item in mean_data['P,a.u.'].unique():\n",
    "    t.append(mean_data[mean_data['P,a.u.'] == item]['T,a.u'].mean())\n",
    "    \n",
    "upd_data['P,a.u.'] = mean_data['P,a.u.'].unique()\n",
    "upd_data['T,a.u'] = t"
   ]
  },
  {
   "cell_type": "markdown",
   "id": "7e3f4b29",
   "metadata": {},
   "source": [
    "Создадим линейный регрессор и обучим его на выборке предварительно разбив её на обучающую и тестовую в соотношении 80:20."
   ]
  },
  {
   "cell_type": "code",
   "execution_count": 18,
   "id": "504eb2a4",
   "metadata": {},
   "outputs": [],
   "source": [
    "model = LinearRegression(fit_intercept=True)\n",
    "x, y = np.log(upd_data['T,a.u'].to_numpy()), np.log(upd_data['P,a.u.'].to_numpy())\n",
    "x_train, x_test, y_train, y_test = train_test_split(x, y, test_size=0.20)\n",
    "model = model.fit(x_train.reshape(-1,1), y_train)"
   ]
  },
  {
   "cell_type": "code",
   "execution_count": 19,
   "id": "6d41f609",
   "metadata": {},
   "outputs": [],
   "source": [
    "y_pred = model.predict(x_test.reshape(-1,1))"
   ]
  },
  {
   "cell_type": "code",
   "execution_count": 20,
   "id": "372eca27",
   "metadata": {},
   "outputs": [
    {
     "name": "stdout",
     "output_type": "stream",
     "text": [
      "MSE:  0.004286\n",
      "MAE:  3.105e-05\n",
      "r2_score:  0.99994\n"
     ]
    }
   ],
   "source": [
    "print(f\"MSE:  {metrics.mean_absolute_error(y_test, y_pred) :.4}\" + \n",
    "     \"\\n\" + f\"MAE:  {metrics.mean_squared_error(y_test, y_pred) :.4}\" +\n",
    "      '\\n' + f\"r2_score:  {metrics.r2_score(y_test, y_pred) :.5}\"\n",
    "     )"
   ]
  },
  {
   "cell_type": "code",
   "execution_count": 21,
   "id": "16e81718",
   "metadata": {},
   "outputs": [
    {
     "name": "stdout",
     "output_type": "stream",
     "text": [
      "Коэффицент:  \n",
      " 1.9966845826838284\n",
      "Свободный член: \n",
      " -5.97\n"
     ]
    }
   ],
   "source": [
    "alpha = model.coef_\n",
    "print(f\"Коэффицент:  \\n {model.coef_[0] :}\" +  \"\\n\" + f\"Свободный член: \\n {model.intercept_ :.4}\")"
   ]
  },
  {
   "cell_type": "code",
   "execution_count": 22,
   "id": "658b6997",
   "metadata": {},
   "outputs": [
    {
     "data": {
      "text/plain": [
       "4.182551117897386"
      ]
     },
     "execution_count": 22,
     "metadata": {},
     "output_type": "execute_result"
    }
   ],
   "source": [
    "n = (alpha[0])/(alpha[0]-1)\n",
    "R = 8.31\n",
    "c= 3/2 *R - R/(n-1)  \n",
    "c"
   ]
  },
  {
   "cell_type": "markdown",
   "id": "824c91db",
   "metadata": {},
   "source": [
    "**Вывод**\n",
    "\n",
    "Теплоемкость можно оценить так: \n",
    "c = (4.163 $\\pm$ 0.004)"
   ]
  },
  {
   "cell_type": "markdown",
   "id": "fcfd569d",
   "metadata": {},
   "source": [
    "# Задача 2\n",
    "В сфере статистики экзопланет ныне бытует мнение, что чем выше металличность звезды, тем выше вероятность того, что у нее будет планета гигант. Рассмотрим [часть выгрузки](https://drive.google.com/file/d/178IlxQdQYb8s5Fk9iWCW2zfBHaZnq-JJ/view?usp=sharing) базы данных экзопланетного архива NASA и проверим, так ли это. Конечно, в реальном исследовании стоит учитывать неоднородность данных, но для начала нам будет достаточно и сырых данных.\n",
    "\n",
    "Проверьте гипотезу с использованием критерия согласия хи-квадрат. Для разбиения на корзины будем считать, что планета гигант &mdash; это планета с массой больше 0.3 масс Юпитера, а звезды для удобства разделим по металличности на меньше и больше 0. Так у нас получится 4 корзины. \n",
    "\n"
   ]
  },
  {
   "cell_type": "markdown",
   "id": "447c93db",
   "metadata": {},
   "source": [
    "**Первая часть**\n",
    "\n",
    "приведем данные в порядок"
   ]
  },
  {
   "cell_type": "code",
   "execution_count": 23,
   "id": "cbdc4e00",
   "metadata": {},
   "outputs": [],
   "source": [
    "data = pd.read_csv(\"task2.csv\") "
   ]
  },
  {
   "cell_type": "code",
   "execution_count": 24,
   "id": "f22dd798",
   "metadata": {},
   "outputs": [
    {
     "data": {
      "text/html": [
       "<div>\n",
       "<style scoped>\n",
       "    .dataframe tbody tr th:only-of-type {\n",
       "        vertical-align: middle;\n",
       "    }\n",
       "\n",
       "    .dataframe tbody tr th {\n",
       "        vertical-align: top;\n",
       "    }\n",
       "\n",
       "    .dataframe thead th {\n",
       "        text-align: right;\n",
       "    }\n",
       "</style>\n",
       "<table border=\"1\" class=\"dataframe\">\n",
       "  <thead>\n",
       "    <tr style=\"text-align: right;\">\n",
       "      <th></th>\n",
       "      <th>pl_name</th>\n",
       "      <th>hostname</th>\n",
       "      <th>discoverymethod</th>\n",
       "      <th>pl_bmassj</th>\n",
       "      <th>st_spectype</th>\n",
       "      <th>st_met</th>\n",
       "      <th>st_metratio</th>\n",
       "      <th>If planet mass&gt;0.3 1; else</th>\n",
       "      <th>If metal&gt;0 1; else 0</th>\n",
       "      <th>Unnamed: 9</th>\n",
       "      <th>Unnamed: 10</th>\n",
       "    </tr>\n",
       "  </thead>\n",
       "  <tbody>\n",
       "    <tr>\n",
       "      <th>0</th>\n",
       "      <td>61 Vir b</td>\n",
       "      <td>61 Vir</td>\n",
       "      <td>Radial Velocity</td>\n",
       "      <td>0.0</td>\n",
       "      <td>1600.0</td>\n",
       "      <td>G5 V</td>\n",
       "      <td>0.0</td>\n",
       "      <td>10</td>\n",
       "      <td>[Fe/H]</td>\n",
       "      <td>0.0</td>\n",
       "      <td>0.0</td>\n",
       "    </tr>\n",
       "    <tr>\n",
       "      <th>1</th>\n",
       "      <td>61 Vir c</td>\n",
       "      <td>61 Vir</td>\n",
       "      <td>Radial Velocity</td>\n",
       "      <td>0.0</td>\n",
       "      <td>5700.0</td>\n",
       "      <td>G5 V</td>\n",
       "      <td>0.0</td>\n",
       "      <td>10</td>\n",
       "      <td>[Fe/H]</td>\n",
       "      <td>0.0</td>\n",
       "      <td>0.0</td>\n",
       "    </tr>\n",
       "    <tr>\n",
       "      <th>2</th>\n",
       "      <td>61 Vir d</td>\n",
       "      <td>61 Vir</td>\n",
       "      <td>Radial Velocity</td>\n",
       "      <td>0.0</td>\n",
       "      <td>7200.0</td>\n",
       "      <td>G5 V</td>\n",
       "      <td>0.0</td>\n",
       "      <td>10</td>\n",
       "      <td>[Fe/H]</td>\n",
       "      <td>0.0</td>\n",
       "      <td>0.0</td>\n",
       "    </tr>\n",
       "    <tr>\n",
       "      <th>3</th>\n",
       "      <td>24 Sex b</td>\n",
       "      <td>24 Sex</td>\n",
       "      <td>Radial Velocity</td>\n",
       "      <td>1.0</td>\n",
       "      <td>99000.0</td>\n",
       "      <td>NaN</td>\n",
       "      <td>0.0</td>\n",
       "      <td>30</td>\n",
       "      <td>[Fe/H]</td>\n",
       "      <td>1.0</td>\n",
       "      <td>0.0</td>\n",
       "    </tr>\n",
       "    <tr>\n",
       "      <th>4</th>\n",
       "      <td>24 Sex c</td>\n",
       "      <td>24 Sex</td>\n",
       "      <td>Radial Velocity</td>\n",
       "      <td>0.0</td>\n",
       "      <td>86000.0</td>\n",
       "      <td>NaN</td>\n",
       "      <td>0.0</td>\n",
       "      <td>30</td>\n",
       "      <td>[Fe/H]</td>\n",
       "      <td>1.0</td>\n",
       "      <td>0.0</td>\n",
       "    </tr>\n",
       "  </tbody>\n",
       "</table>\n",
       "</div>"
      ],
      "text/plain": [
       "    pl_name hostname  discoverymethod  pl_bmassj  st_spectype st_met  \\\n",
       "0  61 Vir b   61 Vir  Radial Velocity        0.0       1600.0   G5 V   \n",
       "1  61 Vir c   61 Vir  Radial Velocity        0.0       5700.0   G5 V   \n",
       "2  61 Vir d   61 Vir  Radial Velocity        0.0       7200.0   G5 V   \n",
       "3  24 Sex b   24 Sex  Radial Velocity        1.0      99000.0    NaN   \n",
       "4  24 Sex c   24 Sex  Radial Velocity        0.0      86000.0    NaN   \n",
       "\n",
       "   st_metratio  If planet mass>0.3 1; else If metal>0 1; else 0  Unnamed: 9  \\\n",
       "0          0.0                          10               [Fe/H]         0.0   \n",
       "1          0.0                          10               [Fe/H]         0.0   \n",
       "2          0.0                          10               [Fe/H]         0.0   \n",
       "3          0.0                          30               [Fe/H]         1.0   \n",
       "4          0.0                          30               [Fe/H]         1.0   \n",
       "\n",
       "   Unnamed: 10  \n",
       "0          0.0  \n",
       "1          0.0  \n",
       "2          0.0  \n",
       "3          0.0  \n",
       "4          0.0  "
      ]
     },
     "execution_count": 24,
     "metadata": {},
     "output_type": "execute_result"
    }
   ],
   "source": [
    "data.head()"
   ]
  },
  {
   "cell_type": "markdown",
   "id": "9f886d23",
   "metadata": {},
   "source": [
    "Сразу видно, что в табличке съехали названия столбцов, надо это исправить."
   ]
  },
  {
   "cell_type": "code",
   "execution_count": 25,
   "id": "8183233c",
   "metadata": {},
   "outputs": [
    {
     "data": {
      "text/plain": [
       "Index(['pl_name', 'hostname', 'discoverymethod', 'pl_bmassj', 'st_spectype',\n",
       "       'st_met', 'st_metratio', 'If planet mass>0.3 1; else',\n",
       "       'If metal>0 1; else 0', 'Unnamed: 9', 'Unnamed: 10'],\n",
       "      dtype='object')"
      ]
     },
     "execution_count": 25,
     "metadata": {},
     "output_type": "execute_result"
    }
   ],
   "source": [
    "data.columns"
   ]
  },
  {
   "cell_type": "code",
   "execution_count": 26,
   "id": "5644c1bf",
   "metadata": {},
   "outputs": [],
   "source": [
    "columns_new = ['pl_name', 'hostname', 'discoverymethod', 'pl_bmassj_int', 'pl_bmassj_frac', 'st_spectype',\n",
    "       'st_met_int', 'st_met_frac', 'st_metratio', 'If planet mass>0.3 1; else',\n",
    "       'If metal>0 1; else 0']"
   ]
  },
  {
   "cell_type": "code",
   "execution_count": 27,
   "id": "33a7230e",
   "metadata": {},
   "outputs": [],
   "source": [
    "data.columns = columns_new"
   ]
  },
  {
   "cell_type": "code",
   "execution_count": 28,
   "id": "c063b967",
   "metadata": {},
   "outputs": [
    {
     "data": {
      "text/plain": [
       "Index(['pl_name', 'hostname', 'discoverymethod', 'pl_bmassj_int',\n",
       "       'pl_bmassj_frac', 'st_spectype', 'st_met_int', 'st_met_frac',\n",
       "       'st_metratio', 'If planet mass>0.3 1; else', 'If metal>0 1; else 0'],\n",
       "      dtype='object')"
      ]
     },
     "execution_count": 28,
     "metadata": {},
     "output_type": "execute_result"
    }
   ],
   "source": [
    "data.columns"
   ]
  },
  {
   "cell_type": "markdown",
   "id": "af3aca56",
   "metadata": {},
   "source": [
    "Теперь все названия удовлетворяют истинному содержанию колонок. Далее почистим те колонки, которые будем использовать, от значений 'NaN', потому что с ними невозможно работать."
   ]
  },
  {
   "cell_type": "code",
   "execution_count": 29,
   "id": "f0c889e3",
   "metadata": {},
   "outputs": [
    {
     "data": {
      "text/html": [
       "<div>\n",
       "<style scoped>\n",
       "    .dataframe tbody tr th:only-of-type {\n",
       "        vertical-align: middle;\n",
       "    }\n",
       "\n",
       "    .dataframe tbody tr th {\n",
       "        vertical-align: top;\n",
       "    }\n",
       "\n",
       "    .dataframe thead th {\n",
       "        text-align: right;\n",
       "    }\n",
       "</style>\n",
       "<table border=\"1\" class=\"dataframe\">\n",
       "  <thead>\n",
       "    <tr style=\"text-align: right;\">\n",
       "      <th></th>\n",
       "      <th>pl_name</th>\n",
       "      <th>hostname</th>\n",
       "      <th>discoverymethod</th>\n",
       "      <th>pl_bmassj_int</th>\n",
       "      <th>pl_bmassj_frac</th>\n",
       "      <th>st_spectype</th>\n",
       "      <th>st_met_int</th>\n",
       "      <th>st_met_frac</th>\n",
       "      <th>st_metratio</th>\n",
       "      <th>If planet mass&gt;0.3 1; else</th>\n",
       "      <th>If metal&gt;0 1; else 0</th>\n",
       "    </tr>\n",
       "  </thead>\n",
       "  <tbody>\n",
       "    <tr>\n",
       "      <th>0</th>\n",
       "      <td>61 Vir b</td>\n",
       "      <td>61 Vir</td>\n",
       "      <td>Radial Velocity</td>\n",
       "      <td>0.0</td>\n",
       "      <td>1600.0</td>\n",
       "      <td>G5 V</td>\n",
       "      <td>0.0</td>\n",
       "      <td>10</td>\n",
       "      <td>[Fe/H]</td>\n",
       "      <td>0.0</td>\n",
       "      <td>0.0</td>\n",
       "    </tr>\n",
       "    <tr>\n",
       "      <th>1</th>\n",
       "      <td>61 Vir c</td>\n",
       "      <td>61 Vir</td>\n",
       "      <td>Radial Velocity</td>\n",
       "      <td>0.0</td>\n",
       "      <td>5700.0</td>\n",
       "      <td>G5 V</td>\n",
       "      <td>0.0</td>\n",
       "      <td>10</td>\n",
       "      <td>[Fe/H]</td>\n",
       "      <td>0.0</td>\n",
       "      <td>0.0</td>\n",
       "    </tr>\n",
       "    <tr>\n",
       "      <th>2</th>\n",
       "      <td>61 Vir d</td>\n",
       "      <td>61 Vir</td>\n",
       "      <td>Radial Velocity</td>\n",
       "      <td>0.0</td>\n",
       "      <td>7200.0</td>\n",
       "      <td>G5 V</td>\n",
       "      <td>0.0</td>\n",
       "      <td>10</td>\n",
       "      <td>[Fe/H]</td>\n",
       "      <td>0.0</td>\n",
       "      <td>0.0</td>\n",
       "    </tr>\n",
       "    <tr>\n",
       "      <th>3</th>\n",
       "      <td>24 Sex b</td>\n",
       "      <td>24 Sex</td>\n",
       "      <td>Radial Velocity</td>\n",
       "      <td>1.0</td>\n",
       "      <td>99000.0</td>\n",
       "      <td>NaN</td>\n",
       "      <td>0.0</td>\n",
       "      <td>30</td>\n",
       "      <td>[Fe/H]</td>\n",
       "      <td>1.0</td>\n",
       "      <td>0.0</td>\n",
       "    </tr>\n",
       "    <tr>\n",
       "      <th>4</th>\n",
       "      <td>24 Sex c</td>\n",
       "      <td>24 Sex</td>\n",
       "      <td>Radial Velocity</td>\n",
       "      <td>0.0</td>\n",
       "      <td>86000.0</td>\n",
       "      <td>NaN</td>\n",
       "      <td>0.0</td>\n",
       "      <td>30</td>\n",
       "      <td>[Fe/H]</td>\n",
       "      <td>1.0</td>\n",
       "      <td>0.0</td>\n",
       "    </tr>\n",
       "  </tbody>\n",
       "</table>\n",
       "</div>"
      ],
      "text/plain": [
       "    pl_name hostname  discoverymethod  pl_bmassj_int  pl_bmassj_frac  \\\n",
       "0  61 Vir b   61 Vir  Radial Velocity            0.0          1600.0   \n",
       "1  61 Vir c   61 Vir  Radial Velocity            0.0          5700.0   \n",
       "2  61 Vir d   61 Vir  Radial Velocity            0.0          7200.0   \n",
       "3  24 Sex b   24 Sex  Radial Velocity            1.0         99000.0   \n",
       "4  24 Sex c   24 Sex  Radial Velocity            0.0         86000.0   \n",
       "\n",
       "  st_spectype  st_met_int  st_met_frac st_metratio  \\\n",
       "0        G5 V         0.0           10      [Fe/H]   \n",
       "1        G5 V         0.0           10      [Fe/H]   \n",
       "2        G5 V         0.0           10      [Fe/H]   \n",
       "3         NaN         0.0           30      [Fe/H]   \n",
       "4         NaN         0.0           30      [Fe/H]   \n",
       "\n",
       "   If planet mass>0.3 1; else  If metal>0 1; else 0  \n",
       "0                         0.0                   0.0  \n",
       "1                         0.0                   0.0  \n",
       "2                         0.0                   0.0  \n",
       "3                         1.0                   0.0  \n",
       "4                         1.0                   0.0  "
      ]
     },
     "execution_count": 29,
     "metadata": {},
     "output_type": "execute_result"
    }
   ],
   "source": [
    "data = data.dropna(subset=['If planet mass>0.3 1; else', 'If metal>0 1; else 0'])\n",
    "data.head()"
   ]
  },
  {
   "cell_type": "markdown",
   "id": "48f86759",
   "metadata": {},
   "source": [
    "**Вторая часть**\n",
    "\n",
    "На самом деле для использования критерия нам нужны только значения из трех колонок таблицы: hostname, If planet mass>0.3 1; else 0 и If metal>0 1; else 0. Таблицу сопряженности для критерия хи-квадрат мы будем строить именно по ним. Проблема в том, что у одной звезды может быть несколько планет, поэтому одной звезде может соответствовать несколько строчек. Поскольку нас не интересует, сколько планет-гигантов у звезды, мы ограничимся проверкой наличия планеты гиганта у звезды и тем самым сократим таблицу: в новой таблице одной звезде будет соотетствовать только одна строчка, а также в таблице будет три столбца: название звезды, наличие/отсуствие планеты гиганта и металличность."
   ]
  },
  {
   "cell_type": "markdown",
   "id": "a81bcea9",
   "metadata": {},
   "source": [
    "Посмотрим, сколько уникальных значений в столбце с названиями звёзд:"
   ]
  },
  {
   "cell_type": "code",
   "execution_count": 30,
   "id": "52dbf655",
   "metadata": {},
   "outputs": [
    {
     "data": {
      "text/plain": [
       "133"
      ]
     },
     "execution_count": 30,
     "metadata": {},
     "output_type": "execute_result"
    }
   ],
   "source": [
    "len(data['hostname'].value_counts())"
   ]
  },
  {
   "cell_type": "markdown",
   "id": "e8ed28d8",
   "metadata": {},
   "source": [
    "Выделим металличность и наличие планеты-гиганта для каждой звезды:"
   ]
  },
  {
   "cell_type": "code",
   "execution_count": 31,
   "id": "443bb055",
   "metadata": {},
   "outputs": [
    {
     "data": {
      "text/plain": [
       "Index(['Kepler-20', 'Kepler-62', 'Kepler-48', '61 Vir', 'Kepler-19', '47 UMa',\n",
       "       'Kepler-289', 'Kepler-18', 'Kepler-30', 'Kepler-37',\n",
       "       ...\n",
       "       'CoRoT-16', 'BD+49 828', '51 Peg', 'CoRoT-22', 'BD+48 738', 'CoRoT-28',\n",
       "       'CoRoT-20', 'Kepler-14', 'Kepler-1514', 'Kepler-75'],\n",
       "      dtype='object', length=133)"
      ]
     },
     "execution_count": 31,
     "metadata": {},
     "output_type": "execute_result"
    }
   ],
   "source": [
    "data['hostname'].value_counts().index"
   ]
  },
  {
   "cell_type": "code",
   "execution_count": 32,
   "id": "b93d884c",
   "metadata": {},
   "outputs": [
    {
     "data": {
      "text/plain": [
       "array([1., 0., 1., 0., 0., 1., 1., 1., 1., 0., 0., 1., 0., 1., 0., 1., 1.,\n",
       "       0., 1., 0., 1., 1., 1., 1., 0., 1., 0., 0., 0., 1., 1., 1., 0., 1.,\n",
       "       0., 0., 0., 0., 0., 0., 0., 0., 1., 1., 1., 1., 0., 0., 0., 1., 1.,\n",
       "       0., 1., 1., 0., 0., 0., 1., 1., 0., 1., 1., 1., 1., 1., 0., 1., 0.,\n",
       "       0., 1., 0., 0., 0., 0., 0., 1., 1., 1., 1., 1., 1., 1., 1., 0., 0.,\n",
       "       0., 0., 1., 0., 1., 1., 0., 1., 1., 1., 0., 1., 1., 1., 0., 0., 0.,\n",
       "       0., 0., 0., 0., 0., 0., 1., 1., 1., 0., 1., 0., 1., 1., 0., 0., 1.,\n",
       "       1., 1., 1., 1., 1., 0., 1., 1., 0., 1., 1., 1., 1., 1.])"
      ]
     },
     "execution_count": 32,
     "metadata": {},
     "output_type": "execute_result"
    }
   ],
   "source": [
    "metal_arr = np.zeros(len(data['hostname'].value_counts().index))\n",
    "for i in range(len(metal_arr)):\n",
    "    metal_arr[i] = np.array(data[data['hostname'] == data['hostname'].value_counts().index[i]]['If metal>0 1; else 0'])[0]\n",
    "metal_arr"
   ]
  },
  {
   "cell_type": "code",
   "execution_count": 33,
   "id": "cfd51541",
   "metadata": {},
   "outputs": [],
   "source": [
    "giant_ex = np.zeros(len(data['hostname'].value_counts().index))\n",
    "for i in range(len(giant_ex)):\n",
    "    cumsum = np.array(data[data['hostname'] == data['hostname'].value_counts().index[i]]['If planet mass>0.3 1; else'].cumsum())\n",
    "    val = cumsum[len(cumsum)-1]\n",
    "    if(val>0):\n",
    "        giant_ex[i] = 1\n",
    "    else:\n",
    "        giant_ex[i] = 0"
   ]
  },
  {
   "cell_type": "markdown",
   "id": "318d6ddc",
   "metadata": {},
   "source": [
    "Значит осталось создать таблицу с 133 строками и тремя столбцами: название звезды, металличность, наличие планеты-гиганта."
   ]
  },
  {
   "cell_type": "code",
   "execution_count": 35,
   "id": "7272ea81",
   "metadata": {},
   "outputs": [
    {
     "data": {
      "text/html": [
       "<div>\n",
       "<style scoped>\n",
       "    .dataframe tbody tr th:only-of-type {\n",
       "        vertical-align: middle;\n",
       "    }\n",
       "\n",
       "    .dataframe tbody tr th {\n",
       "        vertical-align: top;\n",
       "    }\n",
       "\n",
       "    .dataframe thead th {\n",
       "        text-align: right;\n",
       "    }\n",
       "</style>\n",
       "<table border=\"1\" class=\"dataframe\">\n",
       "  <thead>\n",
       "    <tr style=\"text-align: right;\">\n",
       "      <th></th>\n",
       "      <th>hostname</th>\n",
       "      <th>If metal&gt;0 1; else 0</th>\n",
       "      <th>Наличие планеты-гиганта</th>\n",
       "    </tr>\n",
       "  </thead>\n",
       "  <tbody>\n",
       "    <tr>\n",
       "      <th>0</th>\n",
       "      <td>Kepler-20</td>\n",
       "      <td>1.0</td>\n",
       "      <td>0.0</td>\n",
       "    </tr>\n",
       "    <tr>\n",
       "      <th>1</th>\n",
       "      <td>Kepler-62</td>\n",
       "      <td>0.0</td>\n",
       "      <td>0.0</td>\n",
       "    </tr>\n",
       "    <tr>\n",
       "      <th>2</th>\n",
       "      <td>Kepler-48</td>\n",
       "      <td>1.0</td>\n",
       "      <td>1.0</td>\n",
       "    </tr>\n",
       "    <tr>\n",
       "      <th>3</th>\n",
       "      <td>61 Vir</td>\n",
       "      <td>0.0</td>\n",
       "      <td>0.0</td>\n",
       "    </tr>\n",
       "    <tr>\n",
       "      <th>4</th>\n",
       "      <td>Kepler-19</td>\n",
       "      <td>0.0</td>\n",
       "      <td>1.0</td>\n",
       "    </tr>\n",
       "  </tbody>\n",
       "</table>\n",
       "</div>"
      ],
      "text/plain": [
       "    hostname  If metal>0 1; else 0  Наличие планеты-гиганта\n",
       "0  Kepler-20                   1.0                      0.0\n",
       "1  Kepler-62                   0.0                      0.0\n",
       "2  Kepler-48                   1.0                      1.0\n",
       "3     61 Vir                   0.0                      0.0\n",
       "4  Kepler-19                   0.0                      1.0"
      ]
     },
     "execution_count": 35,
     "metadata": {},
     "output_type": "execute_result"
    }
   ],
   "source": [
    "table = {'hostname' : data['hostname'].value_counts().index,\n",
    "         'If metal>0 1; else 0': metal_arr,\n",
    "         'Наличие планеты-гиганта': giant_ex}\n",
    "frame = pd.DataFrame(table)\n",
    "frame.head()"
   ]
  },
  {
   "cell_type": "markdown",
   "id": "fb4e68fd",
   "metadata": {},
   "source": [
    "**Третья часть**\n",
    "\n",
    "разобьём данные на 4 корзины и составим таблицу сопряженности. По столбцам будет металличность звезды (первый -- больше 0, второй -- меньше). По строкам -- наличие планеты-гиганта."
   ]
  },
  {
   "cell_type": "code",
   "execution_count": 36,
   "id": "29ed0af0",
   "metadata": {},
   "outputs": [
    {
     "data": {
      "text/plain": [
       "array([[19., 41.],\n",
       "       [14., 59.]])"
      ]
     },
     "execution_count": 36,
     "metadata": {},
     "output_type": "execute_result"
    }
   ],
   "source": [
    "table = np.histogram2d(frame['If metal>0 1; else 0'].to_numpy(), \n",
    "                                        frame['Наличие планеты-гиганта'].to_numpy(), \n",
    "                                        bins = [2,2])[0]\n",
    "table"
   ]
  },
  {
   "cell_type": "markdown",
   "id": "9d3b1451",
   "metadata": {},
   "source": [
    "Условия применимости критерия хи-квадрат: \n",
    "\n",
    "1. сумма по всей таблице (n) > 40\n",
    "2. произведение суммы по строчкам и суммы по столбцам, деленное на сумму по всей таблице меньше пяти не более, чем в пяти процента случаев"
   ]
  },
  {
   "cell_type": "code",
   "execution_count": 37,
   "id": "4b15e456",
   "metadata": {},
   "outputs": [
    {
     "data": {
      "text/plain": [
       "133.0"
      ]
     },
     "execution_count": 37,
     "metadata": {},
     "output_type": "execute_result"
    }
   ],
   "source": [
    "n = table.sum()\n",
    "n"
   ]
  },
  {
   "cell_type": "markdown",
   "id": "af4fdbe5",
   "metadata": {},
   "source": [
    "Как видим, пункт первый выполняется."
   ]
  },
  {
   "cell_type": "code",
   "execution_count": 38,
   "id": "da742ce4",
   "metadata": {},
   "outputs": [
    {
     "data": {
      "text/plain": [
       "array([ 33., 100.])"
      ]
     },
     "execution_count": 38,
     "metadata": {},
     "output_type": "execute_result"
    }
   ],
   "source": [
    "sum1 = table.sum(axis=0)\n",
    "sum1"
   ]
  },
  {
   "cell_type": "code",
   "execution_count": 39,
   "id": "4a7d8991",
   "metadata": {},
   "outputs": [
    {
     "data": {
      "text/plain": [
       "array([60., 73.])"
      ]
     },
     "execution_count": 39,
     "metadata": {},
     "output_type": "execute_result"
    }
   ],
   "source": [
    "sum2 = table.sum(axis=1)\n",
    "sum2"
   ]
  },
  {
   "cell_type": "code",
   "execution_count": 40,
   "id": "6e71f3ad",
   "metadata": {},
   "outputs": [
    {
     "data": {
      "text/plain": [
       "array([[14, 18],\n",
       "       [45, 54]])"
      ]
     },
     "execution_count": 40,
     "metadata": {},
     "output_type": "execute_result"
    }
   ],
   "source": [
    "sum3 = np.arange(4).reshape(2, 2)\n",
    "for i in range(2):\n",
    "    for j in range(2):\n",
    "        sum3[i][j] = sum1[i]*sum2[j]/n\n",
    "sum3"
   ]
  },
  {
   "cell_type": "markdown",
   "id": "b404e8ea",
   "metadata": {},
   "source": [
    "Пункт два тоже. Значит можно применять критерий."
   ]
  },
  {
   "cell_type": "code",
   "execution_count": 41,
   "id": "0f8127e8",
   "metadata": {},
   "outputs": [
    {
     "data": {
      "text/plain": [
       "0.14496302274052134"
      ]
     },
     "execution_count": 41,
     "metadata": {},
     "output_type": "execute_result"
    }
   ],
   "source": [
    "chi2, p_val = sps.chi2_contingency(table)[:2]\n",
    "p_val"
   ]
  },
  {
   "cell_type": "markdown",
   "id": "1b04ba9e",
   "metadata": {},
   "source": [
    "**Вывод**\n",
    "\n",
    "p-value большой, а значит отвержения гипотезы не происходит, то есть, если говорить в терминах этой задачи, связь между металличностью и наличием планеты-гиганта на данной выборке обнаружена не была."
   ]
  },
  {
   "cell_type": "code",
   "execution_count": null,
   "id": "c9b93819",
   "metadata": {},
   "outputs": [],
   "source": []
  }
 ],
 "metadata": {
  "kernelspec": {
   "display_name": "Python 3 (ipykernel)",
   "language": "python",
   "name": "python3"
  },
  "language_info": {
   "codemirror_mode": {
    "name": "ipython",
    "version": 3
   },
   "file_extension": ".py",
   "mimetype": "text/x-python",
   "name": "python",
   "nbconvert_exporter": "python",
   "pygments_lexer": "ipython3",
   "version": "3.8.10"
  }
 },
 "nbformat": 4,
 "nbformat_minor": 5
}
